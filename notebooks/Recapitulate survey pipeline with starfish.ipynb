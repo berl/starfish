{
 "cells": [
  {
   "cell_type": "code",
   "execution_count": 1,
   "metadata": {},
   "outputs": [],
   "source": [
    "%gui qt"
   ]
  },
  {
   "cell_type": "code",
   "execution_count": 2,
   "metadata": {},
   "outputs": [],
   "source": [
    "from typing import Optional, Tuple, Union\n",
    "\n",
    "import starfish\n",
    "from starfish.types import Axes\n",
    "from starfish import FieldOfView, IntensityTable\n",
    "import xarray as xr\n",
    "import numpy as np\n",
    "import trackpy"
   ]
  },
  {
   "cell_type": "code",
   "execution_count": 3,
   "metadata": {},
   "outputs": [],
   "source": [
    "def percent_clip_to_zero(image: Union[xr.DataArray, np.ndarray],\n",
    "                 p_min: int, p_max: int) -> np.ndarray:\n",
    "        \"\"\"Clip values under minimum percentile of an image to zero\"\"\"\n",
    "        v_min, v_max = np.percentile(image, [p_min, p_max])\n",
    "        image = image.clip(min=v_min, max=v_max) - np.float32(v_min)\n",
    "        return image\n",
    "\n",
    "def clip_to_zero(image: Union[xr.DataArray, np.ndarray],\n",
    "                 minval=None, maxval=None) -> np.ndarray:\n",
    "    image = image.clip(min=minval, max=maxval) - np.float32(minval)\n",
    "    return image\n",
    "\n",
    "# gaussian blur to smooth z-axis\n",
    "z_gauss_filt = starfish.image.Filter.GaussianLowPass(sigma=(1, 0, 0), is_volume=True)"
   ]
  },
  {
   "cell_type": "code",
   "execution_count": 4,
   "metadata": {},
   "outputs": [],
   "source": [
    "def preprocess_survey_tiles(experiment: starfish.Experiment,\n",
    "                            fov_name: str,\n",
    "                            n_processes: Optional[int]=None):\n",
    "    fov = experiment[fov_name]\n",
    "    images = enumerate(fov.iterate_image_type(FieldOfView.PRIMARY_IMAGES))\n",
    "    for image_number, primary_image in images:\n",
    "        primary_image.apply(func=percent_clip_to_zero, group_by={Axes.CH, Axes.ZPLANE}, p_min=75, p_max=100, in_place=True)\n",
    "        primary_image.apply(func=trackpy.bandpass, group_by={Axes.CH, Axes.ZPLANE}, lshort=0.5, llong=7, threshold=1/65535, in_place=True)\n",
    "        primary_image.apply(func=clip_to_zero, group_by={Axes.CH, Axes.ZPLANE}, minval=1/65535, in_place=True)\n",
    "        z_gauss_filt.run(primary_image, in_place=True)\n",
    "        return primary_image"
   ]
  },
  {
   "cell_type": "code",
   "execution_count": 5,
   "metadata": {},
   "outputs": [
    {
     "name": "stderr",
     "output_type": "stream",
     "text": [
      "100%|██████████| 102/102 [00:11<00:00,  8.78it/s]\n"
     ]
    }
   ],
   "source": [
    "experiment = starfish.Experiment.from_json(\"/Users/brian/work/data/the_other_other/czi_mouse_single_round_SpaceTx/experiment.json\")\n",
    "preprocessed = preprocess_survey_tiles(experiment, 'fov_000')"
   ]
  },
  {
   "cell_type": "code",
   "execution_count": 8,
   "metadata": {},
   "outputs": [],
   "source": [
    "preprocessed.to_multipage_tiff('/Users/brian/work/data/the_other_other/preprocessed_fov_000')"
   ]
  },
  {
   "cell_type": "code",
   "execution_count": 7,
   "metadata": {},
   "outputs": [],
   "source": [
    "preprocessed.to_multipage_tiff?"
   ]
  },
  {
   "cell_type": "code",
   "execution_count": 8,
   "metadata": {},
   "outputs": [
    {
     "name": "stdout",
     "output_type": "stream",
     "text": [
      "(37, 2048, 2048, 3)\n",
      "(37, 2048, 2048)\n",
      "diff max: 0.00033250445282462476\n",
      "diff min: -1.8377792002866045e-05\n",
      "abs max: 0.00033250445282462476\n"
     ]
    }
   ],
   "source": [
    "%matplotlib qt\n",
    "import matplotlib.pyplot as plt\n",
    "import skimage.io\n",
    "\n",
    "starfish_volume = skimage.io.imread(\"/home/njmei/Documents/czi_mouse_single_round_SpaceTx_2/preprocessed_fov_000.TIFF\")\n",
    "print(starfish_volume.shape)\n",
    "\n",
    "survey_ch0 = skimage.io.imread(\"/home/njmei/Documents/czi_mouse_single_round/1-Pos_003_006/processedData/1-Pos_003_006_Bandpass488_036processedStack.tif\")\n",
    "survey_ch1 = skimage.io.imread(\"/home/njmei/Documents/czi_mouse_single_round/1-Pos_003_006/processedData/1-Pos_003_006_Bandpass561_036processedStack.tif\")\n",
    "survey_ch2 = skimage.io.imread(\"/home/njmei/Documents/czi_mouse_single_round/1-Pos_003_006/processedData/1-Pos_003_006_Bandpass640_036processedStack.tif\")\n",
    "print(survey_ch0.shape)\n",
    "\n",
    "# Determine differences between survey processed data vs starfish processed data\n",
    "ui16 = np.iinfo(np.uint16)\n",
    "\n",
    "scaled_survey_tile = np.divide(survey_ch0[0], ui16.max)\n",
    "starfish_tile = starfish_volume[0,:,:,0]\n",
    "\n",
    "diff = scaled_survey_tile - starfish_tile\n",
    "\n",
    "# Plot intensity comparisons\n",
    "fig, ax = plt.subplots(nrows=2, ncols=2)\n",
    "ax = ax.ravel()\n",
    "ax[0].imshow(scaled_survey_tile)\n",
    "ax[0].set_title(\"scaled_survey_tile\")\n",
    "ax[1].imshow(starfish_tile)\n",
    "ax[1].set_title(\"starfish_tile\")\n",
    "ax[2].imshow(diff)\n",
    "ax[2].set_title(\"difference\\n(survey - starfish)\")\n",
    "ax[3].imshow(np.abs(diff))\n",
    "ax[3].set_title(\"absolute diff\\nabs(survey - starfish)\")\n",
    "fig.tight_layout()\n",
    "print(f\"diff max: {diff.max()}\")\n",
    "print(f\"diff min: {diff.min()}\")\n",
    "print(f\"abs max: {np.abs(diff).max()}\")\n",
    "\n",
    "# Plot intensity histogram comparisons\n",
    "fig, ax = plt.subplots(nrows=2, ncols=1, sharey=True, sharex=True)\n",
    "_ = ax[0].hist(scaled_survey_tile.ravel(), bins=200)\n",
    "_ = ax[0].set_title(\"histogram of scaled survey intensities\")\n",
    "_ = ax[1].hist(starfish_tile.ravel(), bins=200)\n",
    "_ = ax[1].set_title(\"histogram of starfish intensities\")\n",
    "fig.tight_layout()"
   ]
  },
  {
   "cell_type": "code",
   "execution_count": null,
   "metadata": {},
   "outputs": [],
   "source": [
    "import matplotlib.pyplot as plt\n",
    "import skimage.io\n",
    "\n",
    "# Check that unprocessed tiffs between starfish and our pipeline are the same\n",
    "starfish_tile = skimage.io.imread(\"/home/njmei/Documents/czi_mouse_single_round_SpaceTx_2/primary_images-fov_000-Z0-H0-C0.tiff\")\n",
    "original_tile = skimage.io.imread(\"/home/njmei/Documents/czi_mouse_single_round/1-Pos_003_006/1-Pos_003_006_Bandpass488_000.tif\")\n",
    "diff = original_tile - starfish_tile\n",
    "print(f\"original_tile - starfish_tile max difference: {diff.max()}\")\n",
    "print(f\"starfish tile max value: {original_tile.max()}, original tile min value: {original_tile.min()}\")\n",
    "print(f\"original tile max value: {original_tile.max()}, original tile min value: {original_tile.min()}\")"
   ]
  }
 ],
 "metadata": {
  "kernelspec": {
   "display_name": "Python 3",
   "language": "python",
   "name": "python3"
  },
  "language_info": {
   "codemirror_mode": {
    "name": "ipython",
    "version": 3
   },
   "file_extension": ".py",
   "mimetype": "text/x-python",
   "name": "python",
   "nbconvert_exporter": "python",
   "pygments_lexer": "ipython3",
   "version": "3.7.1"
  }
 },
 "nbformat": 4,
 "nbformat_minor": 2
}
