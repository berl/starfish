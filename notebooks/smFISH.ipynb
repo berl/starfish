{
 "cells": [
  {
   "cell_type": "code",
   "execution_count": 1,
   "metadata": {},
   "outputs": [],
   "source": [
    "%matplotlib inline"
   ]
  },
  {
   "cell_type": "markdown",
   "metadata": {},
   "source": [
    "\n",
    "Single Field of View for sequential single-molecule FISH processed in 3d\n",
    "========================================================================\n",
    "\n",
    "This notebook walks through a work flow that analyzes one field of view of a mouse gene panel from\n",
    "the Allen Institute for Brain Science, using the starfish package.\n",
    "\n",
    "This example processes an experiment with a single round from a single field of view of sequential\n",
    "smFISH data taken from mouse primary visual cortex. These data are unpublished, and were kindly\n",
    "contributed by the Allen Institute for Brain Science as a part of the SpaceTx consortium\n",
    "project.\n",
    "\n",
    "The data consist of 45 images from 1 round, 1 channels, and 33 z-planes. Each image is\n",
    "(2048, 2048) (y, x). There are no test data.\n",
    "\n"
   ]
  },
  {
   "cell_type": "code",
   "execution_count": 16,
   "metadata": {},
   "outputs": [],
   "source": [
    "from typing import Optional, Tuple\n",
    "from IPython import get_ipython\n",
    "\n",
    "from matplotlib import pyplot as plt\n",
    "import numpy as np\n",
    "import starfish\n",
    "import starfish.data\n",
    "from starfish import FieldOfView, IntensityTable\n",
    "\n",
    "# equivalent to %gui qt\n",
    "ipython = get_ipython()\n",
    "ipython.magic(\"gui qt5\")"
   ]
  },
  {
   "cell_type": "markdown",
   "metadata": {},
   "source": [
    "Define image filters\n",
    "--------------------\n",
    "The 3d smFISH workflow run by the Allen runs a bandpass filter to remove high and low frequency\n",
    "signal and blurs over z with a 1-pixel gaussian to smooth the signal over the z-axis.\n",
    "\n",
    "low-intensity signal is (stringently) clipped from the images before and after these filters.\n"
   ]
  },
  {
   "cell_type": "code",
   "execution_count": 5,
   "metadata": {},
   "outputs": [],
   "source": [
    "# bandpass filter to remove cellular background and camera noise\n",
    "bandpass = starfish.image.Filter.Bandpass(lshort=.5, llong=7, threshold=0.0)\n",
    "\n",
    "# gaussian blur to smooth z-axis\n",
    "glp = starfish.image.Filter.GaussianLowPass(\n",
    "    sigma=(1, 0, 0),\n",
    "    is_volume=True\n",
    ")\n",
    "\n",
    "# pre-filter clip to remove low-intensity background signal\n",
    "clip1 = starfish.image.Filter.Clip(p_min=50, p_max=100)\n",
    "\n",
    "# post-filter clip to eliminate all but the highest-intensity peaks\n",
    "clip2 = starfish.image.Filter.Clip(p_min=99, p_max=100, is_volume=True)"
   ]
  },
  {
   "cell_type": "markdown",
   "metadata": {},
   "source": [
    "Define a spot detection method\n",
    "------------------------------\n",
    "Spots are detected using a spot finder based on trackpy's locate method, which identifies\n",
    "local intensity maxima, and spots are matched to the gene they represent by looking them up in a\n",
    "codebook that records which (round, channel) matches which gene target.\n"
   ]
  },
  {
   "cell_type": "code",
   "execution_count": 4,
   "metadata": {},
   "outputs": [],
   "source": [
    "tlmpf = starfish.spots.DetectSpots.TrackpyLocalMaxPeakFinder(\n",
    "    spot_diameter=5,  # must be odd integer\n",
    "    min_mass=0.02,\n",
    "    max_size=2,  # this is max radius\n",
    "    separation=7,\n",
    "    noise_size=0.65,  # this is not used because preprocess is False\n",
    "    preprocess=False,\n",
    "    percentile=10,  # this is irrelevant when min_mass, spot_diameter, and max_size are set properly\n",
    "    verbose=True,\n",
    "    is_volume=True,\n",
    ")"
   ]
  },
  {
   "cell_type": "markdown",
   "metadata": {},
   "source": [
    "Construct the pipeline\n",
    "----------------------\n"
   ]
  },
  {
   "cell_type": "code",
   "execution_count": 6,
   "metadata": {},
   "outputs": [],
   "source": [
    "# override print to print to stderr for cromwell\n",
    "from functools import partial\n",
    "import sys\n",
    "print = partial(print, file=sys.stderr)\n",
    "\n",
    "def processing_pipeline(\n",
    "    experiment: starfish.Experiment,\n",
    "    fov_name: str,\n",
    "    n_processes: Optional[int]=None\n",
    ") -> Tuple[starfish.ImageStack, starfish.IntensityTable]:\n",
    "    \"\"\"Process a single field of view of an experiment\n",
    "\n",
    "    Parameters\n",
    "    ----------\n",
    "    experiment : starfish.Experiment\n",
    "        starfish experiment containing fields of view to analyze\n",
    "    fov_name : str\n",
    "        name of the field of view to process\n",
    "    n_processes : int\n",
    "\n",
    "    Returns\n",
    "    -------\n",
    "    starfish.IntensityTable :\n",
    "        decoded IntensityTable containing spots matched to the genes they are hybridized against\n",
    "    \"\"\"\n",
    "\n",
    "    print(\"Loading images...\")\n",
    "    primary_image = experiment[fov_name].get_image(FieldOfView.PRIMARY_IMAGES)\n",
    "    all_intensities = list()\n",
    "    codebook = experiment.codebook\n",
    "    \n",
    "    images = enumerate(experiment[fov_name].iterate_image_type(FieldOfView.PRIMARY_IMAGES))\n",
    "\n",
    "    for image_number, primary_image in images:\n",
    "\n",
    "        print(f\"Filtering image {image_number}...\")\n",
    "        filter_kwargs = dict(\n",
    "            in_place=True,\n",
    "            verbose=True,\n",
    "            n_processes=n_processes\n",
    "        )\n",
    "        print(\"Applying Clip...\")\n",
    "        clip1.run(primary_image, **filter_kwargs)\n",
    "        print(\"Applying Bandpass...\")\n",
    "        bandpass.run(primary_image, **filter_kwargs)\n",
    "        print(\"Applying Gaussian Low Pass...\")\n",
    "        glp.run(primary_image, **filter_kwargs)\n",
    "        print(\"Applying Clip...\")\n",
    "        clip2.run(primary_image, **filter_kwargs)\n",
    "\n",
    "        print(\"Calling spots...\")\n",
    "        spot_attributes = tlmpf.run(primary_image)\n",
    "        all_intensities.append(spot_attributes)\n",
    "\n",
    "    spot_attributes = IntensityTable.concatenate_intensity_tables(all_intensities)\n",
    "\n",
    "    print(\"Decoding spots...\")\n",
    "    decoded = codebook.decode_per_round_max(spot_attributes)\n",
    "    decoded = decoded[decoded[\"total_intensity\"] > .025]\n",
    "    \n",
    "    print(\"Processing complete.\")\n",
    "\n",
    "    return primary_image, decoded"
   ]
  },
  {
   "cell_type": "markdown",
   "metadata": {},
   "source": [
    "Load data, run pipeline, display results\n",
    "----------------------------------------\n"
   ]
  },
  {
   "cell_type": "code",
   "execution_count": 8,
   "metadata": {},
   "outputs": [],
   "source": [
    "experiment = starfish.Experiment.from_json(\"/Users/brian/work/data/the_other_other/czi_mouse_single_round_SpaceTx/experiment.json\")"
   ]
  },
  {
   "cell_type": "code",
   "execution_count": 7,
   "metadata": {},
   "outputs": [
    {
     "ename": "NameError",
     "evalue": "name 'experiment' is not defined",
     "output_type": "error",
     "traceback": [
      "\u001b[0;31m---------------------------------------------------------------------------\u001b[0m",
      "\u001b[0;31mNameError\u001b[0m                                 Traceback (most recent call last)",
      "\u001b[0;32m<ipython-input-7-9a10888c9b47>\u001b[0m in \u001b[0;36m<module>\u001b[0;34m\u001b[0m\n\u001b[1;32m      1\u001b[0m \u001b[0;34m\u001b[0m\u001b[0m\n\u001b[0;32m----> 2\u001b[0;31m \u001b[0mimage\u001b[0m\u001b[0;34m,\u001b[0m \u001b[0mintensities\u001b[0m \u001b[0;34m=\u001b[0m \u001b[0mprocessing_pipeline\u001b[0m\u001b[0;34m(\u001b[0m\u001b[0mexperiment\u001b[0m\u001b[0;34m,\u001b[0m \u001b[0mfov_name\u001b[0m\u001b[0;34m=\u001b[0m\u001b[0;34m'fov_001'\u001b[0m\u001b[0;34m)\u001b[0m\u001b[0;34m\u001b[0m\u001b[0;34m\u001b[0m\u001b[0m\n\u001b[0m\u001b[1;32m      3\u001b[0m \u001b[0;34m\u001b[0m\u001b[0m\n\u001b[1;32m      4\u001b[0m \u001b[0;31m# uncomment the below line to visualize the output with the spot calls.\u001b[0m\u001b[0;34m\u001b[0m\u001b[0;34m\u001b[0m\u001b[0;34m\u001b[0m\u001b[0m\n\u001b[1;32m      5\u001b[0m \u001b[0;31m# viewer = starfish.display(image, intensities)\u001b[0m\u001b[0;34m\u001b[0m\u001b[0;34m\u001b[0m\u001b[0;34m\u001b[0m\u001b[0m\n",
      "\u001b[0;31mNameError\u001b[0m: name 'experiment' is not defined"
     ]
    }
   ],
   "source": [
    "\n",
    "image, intensities = processing_pipeline(experiment, fov_name='fov_001')\n",
    "\n",
    "# uncomment the below line to visualize the output with the spot calls.\n",
    "# viewer = starfish.display(image, intensities)"
   ]
  },
  {
   "cell_type": "code",
   "execution_count": 10,
   "metadata": {},
   "outputs": [],
   "source": [
    "viewer = starfish.display(image, intensities)"
   ]
  },
  {
   "cell_type": "code",
   "execution_count": 8,
   "metadata": {},
   "outputs": [],
   "source": [
    "idf = intensities.to_features_dataframe()"
   ]
  },
  {
   "cell_type": "code",
   "execution_count": 116,
   "metadata": {},
   "outputs": [
    {
     "data": {
      "text/plain": [
       "<starfish.ImageStack (r: 1, c: 3, z: 34, y: 2048, x: 2048)>"
      ]
     },
     "execution_count": 116,
     "metadata": {},
     "output_type": "execute_result"
    }
   ],
   "source": [
    "image0"
   ]
  },
  {
   "cell_type": "code",
   "execution_count": 15,
   "metadata": {},
   "outputs": [
    {
     "data": {
      "text/plain": [
       "<matplotlib.axes._subplots.AxesSubplot at 0x189c6d7b8>"
      ]
     },
     "execution_count": 15,
     "metadata": {},
     "output_type": "execute_result"
    },
    {
     "data": {
      "image/png": "[encoded data removed]",
      "text/plain": [
       "<Figure size 432x288 with 1 Axes>"
      ]
     },
     "metadata": {
      "needs_background": "light"
     },
     "output_type": "display_data"
    }
   ],
   "source": [
    "idf[\"raw_mass\"].hist(bins=150)"
   ]
  },
  {
   "cell_type": "code",
   "execution_count": 16,
   "metadata": {},
   "outputs": [
    {
     "data": {
      "text/plain": [
       "<matplotlib.axes._subplots.AxesSubplot at 0x1896b82b0>"
      ]
     },
     "execution_count": 16,
     "metadata": {},
     "output_type": "execute_result"
    },
    {
     "data": {
      "image/png": "[encoded data removed]",
      "text/plain": [
       "<Figure size 432x288 with 1 Axes>"
      ]
     },
     "metadata": {
      "needs_background": "light"
     },
     "output_type": "display_data"
    }
   ],
   "source": [
    "idf[\"radius\"].hist(bins=150)"
   ]
  },
  {
   "cell_type": "code",
   "execution_count": 17,
   "metadata": {},
   "outputs": [
    {
     "data": {
      "text/plain": [
       "<starfish.Experiment (FOVs=3)>\n",
       "{\n",
       "fov_000: <starfish.FieldOfView>\n",
       "  Primary Image: <slicedimage.TileSet (c: 3, r: 1, z: 34, x: 2048, y: 2048)>\n",
       "  Auxiliary Images:\n",
       "    nuclei: <slicedimage.TileSet (c: 1, r: 1, z: 34, x: 2048, y: 2048)>\n",
       "fov_001: <starfish.FieldOfView>\n",
       "  Primary Image: <slicedimage.TileSet (c: 3, r: 1, z: 34, x: 2048, y: 2048)>\n",
       "  Auxiliary Images:\n",
       "    nuclei: <slicedimage.TileSet (c: 1, r: 1, z: 34, x: 2048, y: 2048)>\n",
       "fov_002: <starfish.FieldOfView>\n",
       "  Primary Image: <slicedimage.TileSet (c: 3, r: 1, z: 34, x: 2048, y: 2048)>\n",
       "  Auxiliary Images:\n",
       "    nuclei: <slicedimage.TileSet (c: 1, r: 1, z: 34, x: 2048, y: 2048)>\n",
       "}"
      ]
     },
     "execution_count": 17,
     "metadata": {},
     "output_type": "execute_result"
    }
   ],
   "source": [
    "experiment"
   ]
  },
  {
   "cell_type": "code",
   "execution_count": 9,
   "metadata": {},
   "outputs": [
    {
     "name": "stderr",
     "output_type": "stream",
     "text": [
      "Loading images...\n",
      "100%|██████████| 102/102 [00:09<00:00, 10.20it/s]\n",
      "100%|██████████| 102/102 [00:11<00:00,  8.67it/s]\n",
      "Filtering image 0...\n",
      "Applying Clip...\n",
      "102it [00:04, 21.70it/s]\n",
      "Applying Bandpass...\n",
      "102it [00:17,  5.81it/s]\n",
      "Applying Gaussian Low Pass...\n",
      "3it [00:00, 68.20it/s]\n",
      "Applying Clip...\n",
      "3it [00:00, 30.97it/s]\n",
      "Calling spots...\n",
      "Decoding spots...\n",
      "Processing complete.\n"
     ]
    }
   ],
   "source": [
    "image2, intensities2 = processing_pipeline(experiment, fov_name='fov_002')"
   ]
  },
  {
   "cell_type": "code",
   "execution_count": 20,
   "metadata": {},
   "outputs": [
    {
     "name": "stderr",
     "output_type": "stream",
     "text": [
      "Loading images...\n",
      "100%|██████████| 102/102 [00:06<00:00, 16.52it/s]\n",
      "100%|██████████| 102/102 [00:07<00:00, 13.80it/s]\n",
      "Filtering image 0...\n",
      "Applying Clip...\n",
      "102it [00:05, 20.41it/s]\n",
      "Applying Bandpass...\n",
      "102it [00:20,  4.72it/s]\n",
      "Applying Gaussian Low Pass...\n",
      "3it [00:00, 90.00it/s]\n",
      "Applying Clip...\n",
      "3it [00:00, 49.74it/s]\n",
      "Calling spots...\n",
      "Decoding spots...\n",
      "Processing complete.\n"
     ]
    }
   ],
   "source": [
    "image0, intensities0 = processing_pipeline(experiment, fov_name='fov_000')"
   ]
  },
  {
   "cell_type": "code",
   "execution_count": 22,
   "metadata": {},
   "outputs": [
    {
     "name": "stderr",
     "output_type": "stream",
     "text": [
      "Loading images...\n",
      "100%|██████████| 102/102 [00:06<00:00, 16.55it/s]\n",
      "100%|██████████| 102/102 [00:08<00:00, 12.12it/s]\n",
      "Filtering image 0...\n",
      "Applying Clip...\n",
      "102it [00:04, 23.20it/s]\n",
      "Applying Bandpass...\n",
      "102it [00:17,  3.30it/s]\n",
      "Applying Gaussian Low Pass...\n",
      "3it [00:00, 94.66it/s]\n",
      "Applying Clip...\n",
      "3it [00:00, 27.05it/s]\n",
      "Calling spots...\n",
      "Decoding spots...\n",
      "Processing complete.\n"
     ]
    }
   ],
   "source": [
    "image1, intensities1 = processing_pipeline(experiment, fov_name='fov_001')"
   ]
  },
  {
   "cell_type": "code",
   "execution_count": 25,
   "metadata": {},
   "outputs": [],
   "source": [
    "from starfish.types import Axes"
   ]
  },
  {
   "cell_type": "code",
   "execution_count": 37,
   "metadata": {},
   "outputs": [],
   "source": [
    "imcrop, axes = image.get_slice({Axes.CH: slice(0, 0)})"
   ]
  },
  {
   "cell_type": "code",
   "execution_count": 37,
   "metadata": {},
   "outputs": [],
   "source": [
    "from starfish.types import Axes\n",
    "from starfish import ImageStack\n",
    "from napari import ViewerApp\n",
    "from vispy.color import Colormap\n",
    "import glob \n",
    "import os"
   ]
  },
  {
   "cell_type": "code",
   "execution_count": 42,
   "metadata": {},
   "outputs": [
    {
     "name": "stderr",
     "output_type": "stream",
     "text": [
      "100%|██████████| 34/34 [00:00<00:00, 57.21it/s]\n"
     ]
    }
   ],
   "source": [
    "imc = ImageStack.from_numpy(imcrop)"
   ]
  },
  {
   "cell_type": "code",
   "execution_count": 42,
   "metadata": {},
   "outputs": [
    {
     "name": "stderr",
     "output_type": "stream",
     "text": [
      "(34, 2048, 2048, 3)\n"
     ]
    }
   ],
   "source": [
    "import skimage.io\n",
    "\n",
    "starfish_volume = skimage.io.imread(\"/Users/brian/work/data/the_other_other/preprocessed_fov_000.TIFF\")\n",
    "print(starfish_volume.shape)\n"
   ]
  },
  {
   "cell_type": "markdown",
   "metadata": {},
   "source": [
    "### Now visualize 3 FOVs with raw images, `starfish` spots and the existing allen pipeline spots"
   ]
  },
  {
   "cell_type": "code",
   "execution_count": 67,
   "metadata": {
    "scrolled": true
   },
   "outputs": [],
   "source": [
    "viewer = ViewerApp()\n",
    "cmapTops = [(0.,0.,1.,1.), (0.0,1.0, 0.1,1.), (1., 0.0, 0.0,1.0)]\n",
    "cmapNames = ['b', 'g','r']\n",
    "\n",
    "\n",
    "\n",
    "# this \n",
    "\n",
    "summary_directory = \"/Users/brian/work/data/the_other_other/czi_mouse_single_round/summary/\"\n",
    "\n",
    "\n",
    "for i, [iStack, iSpots,ind] in enumerate(\n",
    "    zip([ image0,image1, image2], [intensities0, intensities1,intensities2],['006','007','008'] )):\n",
    "\n",
    "    size= 2048\n",
    "    iLocation = [0, -size*i*0.9,0,0]    # should extract this from `xc` `yc`, but can't be bothered at the moment\n",
    "    \n",
    "    npyfiles = sorted(glob.glob(os.sep.join([summary_directory,\"*003_\"+ind+\"*.npy\"])))\n",
    "    allen_spots= []\n",
    "    for f in npyfiles:\n",
    "        initial = np.load(f)\n",
    "        allen_spots.append(np.column_stack([initial[:,1],initial[:,0]+ iLocation[1]*np.ones_like(initial[:,0]), \n",
    "                                           initial[:,2], np.zeros_like(initial[:,0:2])]))\n",
    "\n",
    "\n",
    "    gene_names=list(iSpots.groupby(\"target\").groups.keys())\n",
    "    for ch in range(3):\n",
    "        imcrop, axes = iStack.get_slice({Axes.CH: slice(ch, ch)})\n",
    "        imcrop = np.squeeze(np.swapaxes(np.swapaxes(imcrop,3,0), 4,1))\n",
    "        imview = viewer.add_image(imcrop, clim_range=[np.min(imcrop), 0.001])\n",
    "        imview.translate=iLocation\n",
    "        imview.colormap = Colormap([(0, 0, 0, 1), cmapTops[ch]])\n",
    "        imview.blending = 'additive'\n",
    "        starfish_spots = np.column_stack([iSpots[iSpots.groupby(\"target\").groups[gene_names[ch]]][\"x\"]+iLocation[0],\n",
    "                                       iSpots[iSpots.groupby(\"target\").groups[gene_names[ch]]][\"y\"]+iLocation[1],\n",
    "                                      iSpots[iSpots.groupby(\"target\").groups[gene_names[ch]]][\"z\"],\n",
    "                                      np.zeros_like(iSpots[iSpots.groupby(\"target\").groups[gene_names[ch]]][\"z\"]),\n",
    "                                      np.zeros_like(iSpots[iSpots.groupby(\"target\").groups[gene_names[ch]]][\"z\"])])\n",
    "        starfish_marker_layer = viewer.add_markers(starfish_spots)\n",
    "        starfish_marker_layer.face_color=None\n",
    "        starfish_marker_layer.edge_color=cmapNames[ch]\n",
    "        starfish_marker_layer.n_dimensional = True\n",
    "        allen_marker_layer = viewer.add_markers(allen_spots[ch])\n",
    "        allen_marker_layer.symbol = 'cross'\n",
    "        allen_marker_layer.face_color=None\n",
    "        allen_marker_layer.edge_color=cmapNames[ch]\n",
    "        allen_marker_layer.n_dimensional = True        \n",
    "        \n"
   ]
  },
  {
   "cell_type": "code",
   "execution_count": 65,
   "metadata": {},
   "outputs": [],
   "source": [
    "j=88"
   ]
  },
  {
   "cell_type": "code",
   "execution_count": null,
   "metadata": {},
   "outputs": [],
   "source": []
  },
  {
   "cell_type": "code",
   "execution_count": null,
   "metadata": {},
   "outputs": [],
   "source": []
  },
  {
   "cell_type": "code",
   "execution_count": null,
   "metadata": {},
   "outputs": [],
   "source": []
  },
  {
   "cell_type": "code",
   "execution_count": null,
   "metadata": {},
   "outputs": [],
   "source": []
  },
  {
   "cell_type": "code",
   "execution_count": null,
   "metadata": {},
   "outputs": [],
   "source": []
  },
  {
   "cell_type": "code",
   "execution_count": null,
   "metadata": {},
   "outputs": [],
   "source": []
  }
 ],
 "metadata": {
  "kernelspec": {
   "display_name": "Python 3",
   "language": "python",
   "name": "python3"
  },
  "language_info": {
   "codemirror_mode": {
    "name": "ipython",
    "version": 3
   },
   "file_extension": ".py",
   "mimetype": "text/x-python",
   "name": "python",
   "nbconvert_exporter": "python",
   "pygments_lexer": "ipython3",
   "version": "3.7.1"
  }
 },
 "nbformat": 4,
 "nbformat_minor": 2
}
